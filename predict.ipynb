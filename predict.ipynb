{
 "cells": [
  {
   "cell_type": "code",
   "execution_count": 1,
   "id": "af47cb25",
   "metadata": {},
   "outputs": [],
   "source": [
    "import requests as r\n",
    "import pandas as pd\n",
    "import json\n",
    "import os\n",
    "from sklearn.model_selection import train_test_split\n",
    "from sklearn.linear_model import LogisticRegression\n",
    "from sklearn.neighbors import KNeighborsClassifier\n",
    "from sklearn.svm import SVC\n",
    "from sklearn.tree import DecisionTreeClassifier\n",
    "from sklearn.naive_bayes import GaussianNB\n",
    "from sklearn.metrics import accuracy_score , f1_score, precision_score, recall_score\n",
    "from sklearn.model_selection import  GridSearchCV\n",
    "import matplotlib.pyplot as plt\n",
    "import numpy as np"
   ]
  },
  {
   "cell_type": "code",
   "execution_count": 2,
   "id": "2e7fd728",
   "metadata": {},
   "outputs": [],
   "source": [
    "url_base_api_cartola = 'https://api.cartola.globo.com'\n",
    "url_proximas_partidas = url_base_api_cartola + '/partidas'\n",
    "url_atletas = url_base_api_cartola + '/atletas/mercado'"
   ]
  },
  {
   "cell_type": "code",
   "execution_count": 3,
   "id": "d27c8565",
   "metadata": {},
   "outputs": [],
   "source": [
    "def get_proximas_partidas():\n",
    "    response = r.get(url_proximas_partidas)\n",
    "    if response.status_code == 200:\n",
    "        return True, response.json()\n",
    "    else:\n",
    "        return False, False"
   ]
  },
  {
   "cell_type": "code",
   "execution_count": 4,
   "id": "15638a0b",
   "metadata": {},
   "outputs": [],
   "source": [
    "def get_atletas():\n",
    "    response = r.get(url_atletas)\n",
    "    if response.status_code == 200:\n",
    "        return True, response.json()\n",
    "    else:\n",
    "        return False, False"
   ]
  },
  {
   "cell_type": "code",
   "execution_count": 5,
   "id": "b65fcd57",
   "metadata": {},
   "outputs": [],
   "source": [
    "def cria_df_atletas():\n",
    "    df_atletas = pd.DataFrame(columns=['Ano', 'Rodada', 'Clube', 'Posicao', 'Preco'])\n",
    "    for ano in ['2018', '2019', '2020']:\n",
    "        for rodada in range(1,39):\n",
    "            df_rodadas_ano = pd.read_csv(f'cartola_dataset/{ano}/rodada-{rodada}.csv')\n",
    "            df_rodadas_ano = df_rodadas_ano.rename(columns={\n",
    "                'atletas.rodada_id': 'Rodada',\n",
    "                'atletas.clube.id.full.name': 'Clube',\n",
    "                'atletas.posicao_id': 'Posicao',\n",
    "                'atletas.preco_num': 'Preco',\n",
    "                'atletas.status_id': 'Status'\n",
    "            })\n",
    "            df_rodadas_ano = df_rodadas_ano[['Rodada', 'Clube', 'Posicao', 'Preco', 'Status']]\n",
    "            df_rodadas_ano['Ano'] = ano\n",
    "            df_atletas = df_atletas.append(df_rodadas_ano)\n",
    "    \n",
    "    for rodada in range(2,40):\n",
    "           with open(f'cartola_dataset/2021/mercado_{rodada}.txt') as json_data:\n",
    "                json_rodadas = json.load(json_data)\n",
    "                for atleta in json_rodadas['atletas']:\n",
    "                    json_input = {\n",
    "                        'Ano': '2021',\n",
    "                        'Rodada': rodada - 1,\n",
    "                        'Clube': str(atleta['clube_id']),\n",
    "                        'Posicao': atleta['posicao_id'],\n",
    "                        'Preco': atleta['preco_num'],\n",
    "                        'Status': atleta['status_id']\n",
    "                    }\n",
    "                    df_atletas = df_atletas.append(json_input, ignore_index=True)         \n",
    "    return df_atletas"
   ]
  },
  {
   "cell_type": "code",
   "execution_count": 6,
   "id": "c39dc436",
   "metadata": {},
   "outputs": [],
   "source": [
    "def formata_df_atletas(df, id_nome_time):\n",
    "    id_posicao = pd.read_csv(f'cartola_dataset/posicoes_ids.csv')\n",
    "    df['Clube'] = df['Clube'].replace(id_nome_time['id'].tolist(), id_nome_time['nome.cartola'].tolist())\n",
    "    df['Posicao'] = df['Posicao'].replace(id_posicao['Cod'].tolist(), id_posicao['abbr'].tolist())\n",
    "    df['Status'] = df['Status'].replace(7, 'Provável')\n",
    "    return df"
   ]
  },
  {
   "cell_type": "code",
   "execution_count": 7,
   "id": "ba762bc3",
   "metadata": {},
   "outputs": [],
   "source": [
    "def cria_df_partidas():\n",
    "    df_partidas = pd.DataFrame(columns=[\n",
    "        'Ano', 'Rodada', 'Time_Casa', 'Time_Fora', 'Vencedor', 'Gols_Casa', 'Gols_Fora', 'Forca_Zag_Casa', 'Forca_Mei_Casa', \n",
    "        'Forca_Atk_Casa', 'Forca_Gol_Casa', 'Forca_Lat_Casa', 'Forca_Tec_Casa', 'Forca_Zag_Fora', 'Forca_Mei_Fora', \n",
    "        'Forca_Atk_Fora', 'Forca_Gol_Fora', 'Forca_Lat_Fora', 'Forca_Tec_Fora'\n",
    "    ])\n",
    "    \n",
    "    for ano in ['2018', '2019', '2020', '2021']:\n",
    "        with open (f'partidas_dataset/{ano}.json') as json_data:\n",
    "            partidas_dados = json.load(json_data)\n",
    "            for rodada in range(1, 39):\n",
    "                jogos_rodada = partidas_dados[str(rodada)]\n",
    "                for jogo in jogos_rodada:\n",
    "                    json_input = {\n",
    "                        'Ano': ano,\n",
    "                        'Rodada': rodada,\n",
    "                        'Time_Casa': jogo['clubs']['home'],\n",
    "                        'Time_Fora': jogo['clubs']['away'],\n",
    "                        'Gols_Casa': jogo['goals']['home'],\n",
    "                        'Gols_Fora': jogo['goals']['away']\n",
    "                    }\n",
    "                    df_partidas = df_partidas.append(json_input, ignore_index=True)\n",
    "    \n",
    "    df_partidas['Vencedor'].mask(df_partidas['Gols_Casa'] > df_partidas['Gols_Fora'], 'Casa', inplace=True)\n",
    "    df_partidas['Vencedor'].mask(df_partidas['Gols_Casa'] < df_partidas['Gols_Fora'], 'Fora', inplace=True)\n",
    "    df_partidas['Vencedor'].mask(df_partidas['Gols_Casa'] == df_partidas['Gols_Fora'], 'Empate', inplace=True)\n",
    "    return df_partidas"
   ]
  },
  {
   "cell_type": "code",
   "execution_count": 8,
   "id": "a5a3b2ea",
   "metadata": {},
   "outputs": [],
   "source": [
    "id_nome_time = pd.read_csv(f'cartola_dataset/id_nome_time.csv')\n",
    "id_nome_time['id'] = id_nome_time['id'].astype(str)\n",
    "df_atletas = cria_df_atletas()\n",
    "df_atletas = formata_df_atletas(df_atletas, id_nome_time)\n",
    "df_partidas = cria_df_partidas()"
   ]
  },
  {
   "cell_type": "code",
   "execution_count": 9,
   "id": "e699bac5",
   "metadata": {},
   "outputs": [],
   "source": [
    "clubes = df_atletas['Clube'].unique().tolist()\n",
    "anos = df_atletas['Ano'].unique().tolist()\n",
    "rodadas = df_atletas['Rodada'].unique().tolist()"
   ]
  },
  {
   "cell_type": "code",
   "execution_count": 10,
   "id": "6f6938d0",
   "metadata": {},
   "outputs": [],
   "source": [
    "df_time_rodada = pd.DataFrame(columns=['Ano', 'Rodada', 'Clube', 'Forca_Zag', 'Forca_Mei', 'Forca_Atk', 'Forca_Gol', 'Forca_Lat', 'Forca_Tec'])"
   ]
  },
  {
   "cell_type": "code",
   "execution_count": 11,
   "id": "0d76a4a9",
   "metadata": {},
   "outputs": [],
   "source": [
    "groups_atleta = df_atletas.groupby(['Ano', 'Rodada', 'Clube', 'Posicao']).describe()"
   ]
  },
  {
   "cell_type": "code",
   "execution_count": 12,
   "id": "20b164f8",
   "metadata": {},
   "outputs": [],
   "source": [
    "for ano in anos:\n",
    "    for rodada in rodadas:\n",
    "        for nm_clube in clubes:\n",
    "            clube = groups_atleta['Preco']['mean'][ano][rodada].get(nm_clube)\n",
    "            if clube is not None:\n",
    "                json_input = {\n",
    "                    'Ano': ano,\n",
    "                    'Rodada': rodada,\n",
    "                    'Clube': nm_clube,\n",
    "                    'Forca_Zag': clube.get('zag'),\n",
    "                    'Forca_Mei': clube.get('mei'),\n",
    "                    'Forca_Atk': clube.get('ata'),\n",
    "                    'Forca_Gol': clube.get('gol'),\n",
    "                    'Forca_Lat': clube.get('lat'),\n",
    "                    'Forca_Tec': clube.get('tec')\n",
    "                }\n",
    "                df_time_rodada = df_time_rodada.append(json_input, ignore_index=True)"
   ]
  },
  {
   "cell_type": "code",
   "execution_count": 13,
   "id": "6f20d190",
   "metadata": {},
   "outputs": [],
   "source": [
    "for linha in df_partidas.itertuples():\n",
    "    df_casa = df_time_rodada[(df_time_rodada.Ano == linha[1]) & (df_time_rodada.Rodada == linha[2]) & (df_time_rodada.Clube == linha[3])]\n",
    "    df_fora = df_time_rodada[(df_time_rodada.Ano == linha[1]) & (df_time_rodada.Rodada == linha[2]) & (df_time_rodada.Clube == linha[4])]\n",
    "    df_partidas['Forca_Zag_Casa'][linha[0]] = df_casa['Forca_Zag'].tolist()[0] if df_casa['Forca_Zag'].tolist() else None\n",
    "    df_partidas['Forca_Mei_Casa'][linha[0]] = df_casa['Forca_Mei'].tolist()[0] if df_casa['Forca_Mei'].tolist() else None\n",
    "    df_partidas['Forca_Atk_Casa'][linha[0]] = df_casa['Forca_Atk'].tolist()[0] if df_casa['Forca_Atk'].tolist() else None\n",
    "    df_partidas['Forca_Gol_Casa'][linha[0]] = df_casa['Forca_Gol'].tolist()[0] if df_casa['Forca_Gol'].tolist() else None\n",
    "    df_partidas['Forca_Lat_Casa'][linha[0]] = df_casa['Forca_Lat'].tolist()[0] if df_casa['Forca_Lat'].tolist() else None\n",
    "    df_partidas['Forca_Tec_Casa'][linha[0]] = df_casa['Forca_Tec'].tolist()[0] if df_casa['Forca_Tec'].tolist() else None\n",
    "    df_partidas['Forca_Zag_Fora'][linha[0]] = df_fora['Forca_Zag'].tolist()[0] if df_fora['Forca_Zag'].tolist() else None\n",
    "    df_partidas['Forca_Mei_Fora'][linha[0]] = df_fora['Forca_Mei'].tolist()[0] if df_fora['Forca_Mei'].tolist() else None\n",
    "    df_partidas['Forca_Atk_Fora'][linha[0]] = df_fora['Forca_Atk'].tolist()[0] if df_fora['Forca_Atk'].tolist() else None\n",
    "    df_partidas['Forca_Gol_Fora'][linha[0]] = df_fora['Forca_Gol'].tolist()[0] if df_fora['Forca_Gol'].tolist() else None\n",
    "    df_partidas['Forca_Lat_Fora'][linha[0]] = df_fora['Forca_Lat'].tolist()[0] if df_fora['Forca_Lat'].tolist() else None\n",
    "    df_partidas['Forca_Tec_Fora'][linha[0]] = df_fora['Forca_Tec'].tolist()[0] if df_fora['Forca_Tec'].tolist() else None"
   ]
  },
  {
   "cell_type": "code",
   "execution_count": 14,
   "id": "cb10a0ea",
   "metadata": {},
   "outputs": [],
   "source": [
    "df_partidas = df_partidas.dropna(axis=0)"
   ]
  },
  {
   "cell_type": "code",
   "execution_count": 15,
   "id": "4b79ccc9",
   "metadata": {},
   "outputs": [],
   "source": [
    "from sklearn.model_selection import train_test_split\n",
    "from sklearn.linear_model import LogisticRegression\n",
    "from sklearn.neighbors import KNeighborsClassifier\n",
    "from sklearn.svm import SVC\n",
    "from sklearn.tree import DecisionTreeClassifier\n",
    "from sklearn.naive_bayes import GaussianNB\n",
    "from sklearn.metrics import accuracy_score , f1_score, precision_score, recall_score\n",
    "from sklearn.model_selection import  GridSearchCV\n",
    "import matplotlib.pyplot as plt\n",
    "import numpy as np"
   ]
  },
  {
   "cell_type": "code",
   "execution_count": 16,
   "id": "a53cba25",
   "metadata": {},
   "outputs": [],
   "source": [
    "X = df_partidas[['Forca_Zag_Casa','Forca_Mei_Casa','Forca_Atk_Casa','Forca_Gol_Casa','Forca_Lat_Casa','Forca_Tec_Casa','Forca_Zag_Fora','Forca_Mei_Fora','Forca_Atk_Fora','Forca_Gol_Fora','Forca_Lat_Fora','Forca_Tec_Fora']]\n",
    "y = df_partidas['Vencedor']"
   ]
  },
  {
   "cell_type": "code",
   "execution_count": 17,
   "id": "96b66d4f",
   "metadata": {},
   "outputs": [],
   "source": [
    "X_train, X_test, y_train, y_test = train_test_split(X, y, random_state=1)"
   ]
  },
  {
   "cell_type": "code",
   "execution_count": 18,
   "id": "d0e0e598",
   "metadata": {},
   "outputs": [],
   "source": [
    "def treina_KNeighborsClassifier(X_train, X_test, y_train, y_test):\n",
    "    knn = KNeighborsClassifier(n_neighbors = 100)\n",
    "    knn.fit(X_train, y_train)\n",
    "    print('Score KNeighborsClassifier:', knn.score(X_test, y_test))\n",
    "    return knn"
   ]
  },
  {
   "cell_type": "code",
   "execution_count": 19,
   "id": "be4e8a6f",
   "metadata": {},
   "outputs": [],
   "source": [
    "def treina_LogisticRegression(X_train, X_test, y_train, y_test):\n",
    "    lr = LogisticRegression(multi_class='multinomial', max_iter=2000)\n",
    "    lr.fit(X_train, y_train)\n",
    "    pred = lr.predict(X_test)\n",
    "    print('Score LogisticRegression:', accuracy_score(y_test, pred))\n",
    "    return lr"
   ]
  },
  {
   "cell_type": "code",
   "execution_count": 20,
   "id": "54a1ac85",
   "metadata": {},
   "outputs": [],
   "source": [
    "def treina_LogisticRegression_clf(X_train, X_test, y_train, y_test):\n",
    "    param_grid = {\n",
    "        \"C\": [0.001, 0.01, 0.1, 1, 10, 100, 1000],\n",
    "    }\n",
    "    search = GridSearchCV(LogisticRegression(max_iter=1000), param_grid)\n",
    "    search.fit(X_train, y_train)\n",
    "    clf = search.best_estimator_\n",
    "    pred = clf.predict(X_test)\n",
    "    print(f'Score LogisticRegression para clf {clf}: {accuracy_score(y_test, pred)}')\n",
    "    return clf"
   ]
  },
  {
   "cell_type": "code",
   "execution_count": 21,
   "id": "4ba20b40",
   "metadata": {},
   "outputs": [],
   "source": [
    "def treina_SVC(X_train, X_test, y_train, y_test):\n",
    "    svc = SVC(probability=True)\n",
    "    svc.fit(X_train, y_train)\n",
    "    pred = svc.predict(X_test)\n",
    "    print('Score SVC:', accuracy_score(y_test, pred))\n",
    "    return svc"
   ]
  },
  {
   "cell_type": "code",
   "execution_count": 22,
   "id": "6ae54834",
   "metadata": {},
   "outputs": [],
   "source": [
    "def treina_SVC_clf(X_train, X_test, y_train, y_test):\n",
    "    param_grid = {\"C\": [0.001, 0.01, 0.1, 1, 10, 100, 1000]}\n",
    "    search = GridSearchCV(SVC(probability=True), param_grid)\n",
    "    search.fit(X_train, y_train)\n",
    "    clf = search.best_estimator_\n",
    "    pred = clf.predict(X_test)\n",
    "    print(f'Score SVC para clf {clf}: {accuracy_score(y_test, pred)}')\n",
    "    return clf"
   ]
  },
  {
   "cell_type": "code",
   "execution_count": 23,
   "id": "c3a90933",
   "metadata": {},
   "outputs": [],
   "source": [
    "def treina_DecisionTreeClassifier(X_train, X_test, y_train, y_test):\n",
    "    dt = DecisionTreeClassifier()\n",
    "    dt.fit(X_train, y_train)\n",
    "    pred = dt.predict(X_test)\n",
    "    print('Score DecisionTreeClassifier:', accuracy_score(y_test, pred))\n",
    "    return dt"
   ]
  },
  {
   "cell_type": "code",
   "execution_count": 24,
   "id": "d8274d9f",
   "metadata": {},
   "outputs": [],
   "source": [
    "def treina_GaussianNB(X_train, X_test, y_train, y_test):\n",
    "    gnb = GaussianNB()\n",
    "    gnb.fit(X_train, y_train)\n",
    "    pred = gnb.predict(X_test)\n",
    "    print('Score GaussianNB:', accuracy_score(y_test, pred))\n",
    "    return gnb"
   ]
  },
  {
   "cell_type": "code",
   "execution_count": 25,
   "id": "eff55649",
   "metadata": {},
   "outputs": [],
   "source": [
    "def treina_modelos(X_train, X_test, y_train, y_test):\n",
    "    KNeighborsClassifier = treina_KNeighborsClassifier(X_train, X_test, y_train, y_test)\n",
    "    LogisticRegression = treina_LogisticRegression(X_train, X_test, y_train, y_test)\n",
    "    LogisticRegression_clf = treina_LogisticRegression_clf(X_train, X_test, y_train, y_test)\n",
    "    SVC = treina_SVC(X_train, X_test, y_train, y_test)\n",
    "    SVC_clf = treina_SVC_clf(X_train, X_test, y_train, y_test)\n",
    "    DecisionTreeClassifier = treina_DecisionTreeClassifier(X_train, X_test, y_train, y_test)\n",
    "    GaussianNB = treina_GaussianNB(X_train, X_test, y_train, y_test)\n",
    "    return KNeighborsClassifier, LogisticRegression, LogisticRegression_clf, SVC, SVC_clf, GaussianNB"
   ]
  },
  {
   "cell_type": "code",
   "execution_count": 26,
   "id": "383d75a1",
   "metadata": {},
   "outputs": [
    {
     "name": "stdout",
     "output_type": "stream",
     "text": [
      "Score KNeighborsClassifier: 0.5423280423280423\n",
      "Score LogisticRegression: 0.5370370370370371\n",
      "Score LogisticRegression para clf LogisticRegression(C=0.01, max_iter=1000): 0.5502645502645502\n",
      "Score SVC: 0.5502645502645502\n",
      "Score SVC para clf SVC(C=1, probability=True): 0.5502645502645502\n",
      "Score DecisionTreeClassifier: 0.43386243386243384\n",
      "Score GaussianNB: 0.5238095238095238\n"
     ]
    }
   ],
   "source": [
    "KNeighborsClassifier, LogisticRegression, LogisticRegression_clf, SVC, SVC_clf, GaussianNB = treina_modelos(X_train, X_test, y_train, y_test)"
   ]
  },
  {
   "cell_type": "code",
   "execution_count": 27,
   "id": "42d3d12d",
   "metadata": {},
   "outputs": [],
   "source": [
    "response_proximas_partidas = get_proximas_partidas()\n",
    "response_atletas = get_atletas()\n",
    "if response_proximas_partidas[0]:\n",
    "    proximas_partidas = response_proximas_partidas[1]['partidas']\n",
    "else:\n",
    "    print(\"Problema ao buscar próximas partidas\")\n",
    "if response_atletas[0]:\n",
    "    atletas_rodada = response_atletas[1]['atletas']\n",
    "else:\n",
    "    print(\"Problema ao buscar atletas\")"
   ]
  },
  {
   "cell_type": "code",
   "execution_count": 28,
   "id": "70c4fc12",
   "metadata": {},
   "outputs": [],
   "source": [
    "df_atletas_rodada = pd.DataFrame(atletas_rodada)\n",
    "df_atletas_rodada = df_atletas_rodada[['clube_id', 'posicao_id', 'status_id', 'preco_num']]\n",
    "df_proximas_partidas = pd.DataFrame(proximas_partidas)\n",
    "df_proximas_partidas = df_proximas_partidas[['clube_casa_id', 'clube_visitante_id']]"
   ]
  },
  {
   "cell_type": "code",
   "execution_count": 29,
   "id": "a356106c",
   "metadata": {},
   "outputs": [],
   "source": [
    "id_posicao = pd.read_csv(f'cartola_dataset/posicoes_ids.csv')\n",
    "df_atletas_rodada['Posicao'] = df_atletas_rodada['posicao_id'].replace(id_posicao['Cod'].tolist(), id_posicao['abbr'].tolist())\n",
    "df_atletas_rodada['Status'] = df_atletas_rodada['status_id'].replace(7, 'Provável')"
   ]
  },
  {
   "cell_type": "code",
   "execution_count": 30,
   "id": "84b23d35",
   "metadata": {},
   "outputs": [],
   "source": [
    "group_atletas_rodada = df_atletas_rodada.groupby(['clube_id', 'Posicao']).describe()"
   ]
  },
  {
   "cell_type": "code",
   "execution_count": 31,
   "id": "8f1e4b29",
   "metadata": {},
   "outputs": [],
   "source": [
    "df_proximas_partidas['Forca_Zag_Casa'] = df_proximas_partidas.apply(lambda row: group_atletas_rodada['preco_num']['mean'][row.clube_casa_id]['zag'], axis = 1)\n",
    "df_proximas_partidas['Forca_Mei_Casa'] = df_proximas_partidas.apply(lambda row: group_atletas_rodada['preco_num']['mean'][row.clube_casa_id]['mei'], axis = 1)\n",
    "df_proximas_partidas['Forca_Atk_Casa'] = df_proximas_partidas.apply(lambda row: group_atletas_rodada['preco_num']['mean'][row.clube_casa_id]['ata'], axis = 1)\n",
    "df_proximas_partidas['Forca_Gol_Casa'] = df_proximas_partidas.apply(lambda row: group_atletas_rodada['preco_num']['mean'][row.clube_casa_id]['gol'], axis = 1)\n",
    "df_proximas_partidas['Forca_Lat_Casa'] = df_proximas_partidas.apply(lambda row: group_atletas_rodada['preco_num']['mean'][row.clube_casa_id]['lat'], axis = 1)\n",
    "df_proximas_partidas['Forca_Tec_Casa'] = df_proximas_partidas.apply(lambda row: group_atletas_rodada['preco_num']['mean'][row.clube_casa_id]['tec'], axis = 1)\n",
    "df_proximas_partidas['Forca_Zag_Fora'] = df_proximas_partidas.apply(lambda row: group_atletas_rodada['preco_num']['mean'][row.clube_visitante_id]['zag'], axis = 1)\n",
    "df_proximas_partidas['Forca_Mei_Fora'] = df_proximas_partidas.apply(lambda row: group_atletas_rodada['preco_num']['mean'][row.clube_visitante_id]['mei'], axis = 1)\n",
    "df_proximas_partidas['Forca_Atk_Fora'] = df_proximas_partidas.apply(lambda row: group_atletas_rodada['preco_num']['mean'][row.clube_visitante_id]['ata'], axis = 1)\n",
    "df_proximas_partidas['Forca_Gol_Fora'] = df_proximas_partidas.apply(lambda row: group_atletas_rodada['preco_num']['mean'][row.clube_visitante_id]['gol'], axis = 1)\n",
    "df_proximas_partidas['Forca_Lat_Fora'] = df_proximas_partidas.apply(lambda row: group_atletas_rodada['preco_num']['mean'][row.clube_visitante_id]['lat'], axis = 1)\n",
    "df_proximas_partidas['Forca_Tec_Fora'] = df_proximas_partidas.apply(lambda row: group_atletas_rodada['preco_num']['mean'][row.clube_visitante_id]['tec'], axis = 1)"
   ]
  },
  {
   "cell_type": "code",
   "execution_count": 32,
   "id": "ea84245b",
   "metadata": {},
   "outputs": [],
   "source": [
    "to_predict = df_proximas_partidas[['Forca_Zag_Casa','Forca_Mei_Casa','Forca_Atk_Casa','Forca_Gol_Casa','Forca_Lat_Casa','Forca_Tec_Casa','Forca_Zag_Fora','Forca_Mei_Fora','Forca_Atk_Fora','Forca_Gol_Fora','Forca_Lat_Fora','Forca_Tec_Fora']]"
   ]
  },
  {
   "cell_type": "code",
   "execution_count": 33,
   "id": "82fd7829",
   "metadata": {},
   "outputs": [],
   "source": [
    "pred_KNeighbors = KNeighborsClassifier.predict_proba(to_predict)\n",
    "pred_LogisticRegression = LogisticRegression_clf.predict_proba(to_predict)\n",
    "pred_SVC = SVC.predict_proba(to_predict)"
   ]
  },
  {
   "cell_type": "code",
   "execution_count": 38,
   "id": "3fa4c87d",
   "metadata": {},
   "outputs": [
    {
     "data": {
      "image/png": "[encoded data removed]",
      "text/plain": [
       "<Figure size 2160x1080 with 10 Axes>"
      ]
     },
     "metadata": {
      "needs_background": "light"
     },
     "output_type": "display_data"
    }
   ],
   "source": [
    "bar_width = 0.25\n",
    "r1 = np.arange(3)\n",
    "r2 = [x + bar_width for x in r1]\n",
    "r3 = [x + bar_width for x in r2]\n",
    "\n",
    "for x in range(len(to_predict)):\n",
    "    fig = plt.figure(0)\n",
    "    plt.subplot2grid((3,4), (x//4, x%4))\n",
    "    fig.set_figheight(15)\n",
    "    fig.set_figwidth(30)\n",
    "    percents_KNeighbors = [round(pred_KNeighbors[x][0] * 100, 2), round(pred_KNeighbors[x][1] * 100, 2), round(pred_KNeighbors[x][2] * 100, 2)]\n",
    "    percents_LogisticRegression = [round(pred_LogisticRegression[x][0] * 100, 2), round(pred_LogisticRegression[x][1] * 100, 2), round(pred_LogisticRegression[x][2] * 100, 2)]\n",
    "    percents_SVC = [round(pred_SVC[x][0] * 100, 2), round(pred_SVC[x][1] * 100, 2), round(pred_SVC[x][2] * 100, 2)]\n",
    "    \n",
    "    time_casa = id_nome_time[id_nome_time['id'] == str(df_proximas_partidas['clube_casa_id'][x])]['nome.cartola'].values[0]\n",
    "    time_fora = id_nome_time[id_nome_time['id'] == str(df_proximas_partidas['clube_visitante_id'][x])]['nome.cartola'].values[0]\n",
    "    \n",
    "    plt.bar(r1, percents_KNeighbors, width=bar_width, label='KNeighbors')\n",
    "    plt.bar(r2, percents_LogisticRegression, width=bar_width, label='LogisticRegression')\n",
    "    plt.bar(r3, percents_SVC, width=bar_width, label='SVC')\n",
    "    \n",
    "    plt.xticks([r + bar_width for r in range(3)], [time_casa, 'Empate', time_fora])\n",
    "    plt.ylabel('Porcentagens (%)')\n",
    "    plt.title(f\"{time_casa} (casa) x {time_fora} (fora)\")\n",
    "    plt.legend()\n",
    "plt.savefig('result.png', format='png')\n",
    "plt.show()"
   ]
  },
  {
   "cell_type": "code",
   "execution_count": 48,
   "id": "42cec421",
   "metadata": {},
   "outputs": [],
   "source": [
    "import smtplib\n",
    "from email.mime.image import MIMEImage\n",
    "from email.mime.multipart import MIMEMultipart\n",
    "    \n",
    "def send_email(user, pwd, recipient, subject):\n",
    "    msg = MIMEMultipart()\n",
    "    msg['From'] = user\n",
    "    msg['To'] = recipient\n",
    "    msg['Subject'] = subject\n",
    "    with open('result.png', 'rb') as f:\n",
    "        mime = MIMEImage(f.read(), _subtype='png')\n",
    "    mime.add_header('Content-Disposition', 'attachment', filename='Result')\n",
    "    msg.attach(mime)\n",
    "    server = smtplib.SMTP(\"smtp.gmail.com\", 587)\n",
    "    server.ehlo()\n",
    "    server.starttls()\n",
    "    server.login(user, pwd)\n",
    "    server.sendmail(msg['From'], [msg['To']], msg.as_string())\n",
    "    server.close()"
   ]
  },
  {
   "cell_type": "code",
   "execution_count": 49,
   "id": "84677cb6",
   "metadata": {},
   "outputs": [],
   "source": [
    "send_email('', '', '', '')"
   ]
  }
 ],
 "metadata": {
  "kernelspec": {
   "display_name": "Python 3",
   "language": "python",
   "name": "python3"
  },
  "language_info": {
   "codemirror_mode": {
    "name": "ipython",
    "version": 3
   },
   "file_extension": ".py",
   "mimetype": "text/x-python",
   "name": "python",
   "nbconvert_exporter": "python",
   "pygments_lexer": "ipython3",
   "version": "3.8.8"
  }
 },
 "nbformat": 4,
 "nbformat_minor": 5
}
